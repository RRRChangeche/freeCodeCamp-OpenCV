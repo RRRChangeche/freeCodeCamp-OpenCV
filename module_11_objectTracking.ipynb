{
    "cells": [
        {
            "cell_type": "markdown",
            "source": [
                "# Object Tracking\r\n",
                "\r\n",
                "## Tracker Class in OpenCV\r\n",
                "### Different Algorithms\r\n",
                "1. BOOSTING\r\n",
                "2. MIL \r\n",
                "3. KCF \r\n",
                "4. CRST\r\n",
                "4. TLD \r\n",
                " * Tends to recover from occulusions\r\n",
                "5. MEDIANFLOW \r\n",
                " * Good for predictable slow motion\r\n",
                "6. GOTURN\r\n",
                " * Deep Learning based\r\n",
                " * Most Accurate \r\n",
                "7. MOSSE\r\n",
                " * Fastest"
            ],
            "metadata": {}
        },
        {
            "cell_type": "code",
            "execution_count": 1,
            "source": [
                "import cv2\r\n",
                "import sys\r\n",
                "import os\r\n",
                "import matplotlib.pyplot as plt\r\n",
                "from matplotlib.animation import FuncAnimation\r\n",
                "from IPython.display import HTML\r\n",
                "import urllib\r\n",
                "\r\n",
                "video_input_file_name = \"./opencv-python-free-course-code/race_car.mp4\"\r\n",
                "\r\n",
                "def drawRectangle(frame, bbox):\r\n",
                "    p1 = (int(bbox[0]), int(bbox[1]))\r\n",
                "    p2 = (int(bbox[0] + bbox[2]), int(bbox[1] + bbox[3]))\r\n",
                "    cv2.rectangle(frame, p1, p2 (255,0,0), 2, 1)\r\n",
                "\r\n",
                "def displayRectangle(frame, bbox):\r\n",
                "    plt.figure(figsize=(20,10))\r\n",
                "    frameCopy = frame.copy()\r\n",
                "    drawRectangle(frameCopy, bbox)\r\n",
                "    frameCopy = cv2.cv2.cvtColor(frameCopy, cv2.cv2.COLOR_RGB2BGR)\r\n",
                "    plt.imshow(frameCopy); plt.axis(\"off\")\r\n",
                "\r\n",
                "def drawText(frame, txt, location, color = (50, 170, 50)):\r\n",
                "    cv2.putText(frame, txt, location, cv2.FONT_HERSHEY_SIMPLEX, 1, color, 3)\r\n",
                "\r\n"
            ],
            "outputs": [],
            "metadata": {}
        },
        {
            "cell_type": "markdown",
            "source": [
                "## Download tracking model (for GOTURN only)"
            ],
            "metadata": {}
        },
        {
            "cell_type": "code",
            "execution_count": 2,
            "source": [
                "if not os.path.isfile(\"./opencv-python-free-course-code/goturn.prototxt\") or not os.path.isfile(\"./opencv-python-free-course-code/goturn.caffemodel\"):\r\n",
                "    print(\"Downloading GOTURN model zip file\")\r\n",
                "    urllib.request.urlretrieve('https://www.dropbox.com/sh/77frbrkmf9ojfm6/AACgY7-wSfj-LIyYcOgUSZ0Ua?dl=1', 'GOTURN.zip')\r\n",
                "\r\n",
                "     # Uncompress the file\r\n",
                "    !tar -xvf GOTURN.zip\r\n",
                "\r\n",
                "    # Delete the zip file\r\n",
                "    os.remove('GOTURN.zip')"
            ],
            "outputs": [
                {
                    "output_type": "stream",
                    "name": "stdout",
                    "text": [
                        "Downloading GOTURN model zip file\n"
                    ]
                },
                {
                    "output_type": "stream",
                    "name": "stderr",
                    "text": [
                        "tar: Removing leading '/' from member names\n",
                        "x .\n",
                        "x goturn.prototxt\n",
                        "x goturn.caffemodel\n"
                    ]
                }
            ],
            "metadata": {}
        },
        {
            "cell_type": "code",
            "execution_count": null,
            "source": [],
            "outputs": [],
            "metadata": {}
        },
        {
            "cell_type": "code",
            "execution_count": null,
            "source": [],
            "outputs": [],
            "metadata": {}
        }
    ],
    "metadata": {
        "orig_nbformat": 4,
        "language_info": {
            "name": "python",
            "version": "3.8.5",
            "mimetype": "text/x-python",
            "codemirror_mode": {
                "name": "ipython",
                "version": 3
            },
            "pygments_lexer": "ipython3",
            "nbconvert_exporter": "python",
            "file_extension": ".py"
        },
        "kernelspec": {
            "name": "python3",
            "display_name": "Python 3.8.5 64-bit ('OpenCV_ENV': conda)"
        },
        "interpreter": {
            "hash": "b402e3ed7ffac7d4e523fcb32038881d8ae29ddc86898b5237aaad892edc8b35"
        }
    },
    "nbformat": 4,
    "nbformat_minor": 2
}